{
  "cells": [
    {
      "cell_type": "markdown",
      "metadata": {
        "id": "z2OzFao5Pk5D"
      },
      "source": [
        "# 乳癌資料庫預測SVM分類\n",
        ">使用scikit-learn 機器學習套件裡的SVR演算法\n",
        "\n",
        "* (一)引入函式庫及內建乳癌資料集<br>\n",
        "引入之函式庫如下<br>\n",
        "sklearn.datasets: 用來匯入內建之乳癌資料集`datasets.load_breast_cancer()`<br>\n",
        "sklearn.SVR: 支持向量機回歸分析之演算法<br>\n",
        "matplotlib.pyplot: 用來繪製影像"
      ]
    },
    {
      "cell_type": "code",
      "execution_count": 1,
      "metadata": {
        "id": "9E259zxsPk5F"
      },
      "outputs": [],
      "source": [
        "from sklearn import svm\n",
        "from sklearn import datasets\n",
        "from sklearn.model_selection import train_test_split\n",
        "from sklearn.metrics import accuracy_score"
      ]
    },
    {
      "cell_type": "markdown",
      "metadata": {
        "id": "81EVMPFQPk5H"
      },
      "source": [
        "## Step1. 下載資料"
      ]
    },
    {
      "cell_type": "code",
      "execution_count": 2,
      "metadata": {
        "id": "R24VDVkNPk5H"
      },
      "outputs": [],
      "source": [
        "breast_cancer=datasets.load_breast_cancer()\n"
      ]
    },
    {
      "cell_type": "code",
      "execution_count": 3,
      "metadata": {
        "id": "n5g6gGhVPk5I",
        "outputId": "8b19be8d-5ac7-4126-aac4-966774972adb",
        "colab": {
          "base_uri": "https://localhost:8080/"
        }
      },
      "outputs": [
        {
          "output_type": "stream",
          "name": "stdout",
          "text": [
            "dict_keys(['data', 'target', 'frame', 'target_names', 'DESCR', 'feature_names', 'filename', 'data_module'])\n",
            "['mean radius' 'mean texture' 'mean perimeter' 'mean area'\n",
            " 'mean smoothness' 'mean compactness' 'mean concavity'\n",
            " 'mean concave points' 'mean symmetry' 'mean fractal dimension'\n",
            " 'radius error' 'texture error' 'perimeter error' 'area error'\n",
            " 'smoothness error' 'compactness error' 'concavity error'\n",
            " 'concave points error' 'symmetry error' 'fractal dimension error'\n",
            " 'worst radius' 'worst texture' 'worst perimeter' 'worst area'\n",
            " 'worst smoothness' 'worst compactness' 'worst concavity'\n",
            " 'worst concave points' 'worst symmetry' 'worst fractal dimension']\n",
            "['malignant' 'benign']\n"
          ]
        }
      ],
      "source": [
        "features=breast_cancer.data\n",
        "target=breast_cancer.target\n",
        "print(breast_cancer.keys())\n",
        "print(breast_cancer.feature_names)\n",
        "print(breast_cancer.target_names)"
      ]
    },
    {
      "cell_type": "code",
      "execution_count": 4,
      "metadata": {
        "id": "5-JXN7RUPk5I",
        "outputId": "1c2a1e65-cf1e-4f91-f43f-6d914cd415a1",
        "colab": {
          "base_uri": "https://localhost:8080/"
        }
      },
      "outputs": [
        {
          "output_type": "execute_result",
          "data": {
            "text/plain": [
              "array([[1.799e+01, 1.038e+01, 1.228e+02, ..., 2.654e-01, 4.601e-01,\n",
              "        1.189e-01],\n",
              "       [2.057e+01, 1.777e+01, 1.329e+02, ..., 1.860e-01, 2.750e-01,\n",
              "        8.902e-02],\n",
              "       [1.969e+01, 2.125e+01, 1.300e+02, ..., 2.430e-01, 3.613e-01,\n",
              "        8.758e-02],\n",
              "       ...,\n",
              "       [1.660e+01, 2.808e+01, 1.083e+02, ..., 1.418e-01, 2.218e-01,\n",
              "        7.820e-02],\n",
              "       [2.060e+01, 2.933e+01, 1.401e+02, ..., 2.650e-01, 4.087e-01,\n",
              "        1.240e-01],\n",
              "       [7.760e+00, 2.454e+01, 4.792e+01, ..., 0.000e+00, 2.871e-01,\n",
              "        7.039e-02]])"
            ]
          },
          "metadata": {},
          "execution_count": 4
        }
      ],
      "source": [
        "features"
      ]
    },
    {
      "cell_type": "code",
      "execution_count": 5,
      "metadata": {
        "id": "mWnhHFM2Pk5J",
        "outputId": "e56dcd38-e22c-4041-d40c-4eb644a29846",
        "colab": {
          "base_uri": "https://localhost:8080/"
        }
      },
      "outputs": [
        {
          "output_type": "execute_result",
          "data": {
            "text/plain": [
              "array([0, 0, 0, 0, 0, 0, 0, 0, 0, 0, 0, 0, 0, 0, 0, 0, 0, 0, 0, 1, 1, 1,\n",
              "       0, 0, 0, 0, 0, 0, 0, 0, 0, 0, 0, 0, 0, 0, 0, 1, 0, 0, 0, 0, 0, 0,\n",
              "       0, 0, 1, 0, 1, 1, 1, 1, 1, 0, 0, 1, 0, 0, 1, 1, 1, 1, 0, 1, 0, 0,\n",
              "       1, 1, 1, 1, 0, 1, 0, 0, 1, 0, 1, 0, 0, 1, 1, 1, 0, 0, 1, 0, 0, 0,\n",
              "       1, 1, 1, 0, 1, 1, 0, 0, 1, 1, 1, 0, 0, 1, 1, 1, 1, 0, 1, 1, 0, 1,\n",
              "       1, 1, 1, 1, 1, 1, 1, 0, 0, 0, 1, 0, 0, 1, 1, 1, 0, 0, 1, 0, 1, 0,\n",
              "       0, 1, 0, 0, 1, 1, 0, 1, 1, 0, 1, 1, 1, 1, 0, 1, 1, 1, 1, 1, 1, 1,\n",
              "       1, 1, 0, 1, 1, 1, 1, 0, 0, 1, 0, 1, 1, 0, 0, 1, 1, 0, 0, 1, 1, 1,\n",
              "       1, 0, 1, 1, 0, 0, 0, 1, 0, 1, 0, 1, 1, 1, 0, 1, 1, 0, 0, 1, 0, 0,\n",
              "       0, 0, 1, 0, 0, 0, 1, 0, 1, 0, 1, 1, 0, 1, 0, 0, 0, 0, 1, 1, 0, 0,\n",
              "       1, 1, 1, 0, 1, 1, 1, 1, 1, 0, 0, 1, 1, 0, 1, 1, 0, 0, 1, 0, 1, 1,\n",
              "       1, 1, 0, 1, 1, 1, 1, 1, 0, 1, 0, 0, 0, 0, 0, 0, 0, 0, 0, 0, 0, 0,\n",
              "       0, 0, 1, 1, 1, 1, 1, 1, 0, 1, 0, 1, 1, 0, 1, 1, 0, 1, 0, 0, 1, 1,\n",
              "       1, 1, 1, 1, 1, 1, 1, 1, 1, 1, 1, 0, 1, 1, 0, 1, 0, 1, 1, 1, 1, 1,\n",
              "       1, 1, 1, 1, 1, 1, 1, 1, 1, 0, 1, 1, 1, 0, 1, 0, 1, 1, 1, 1, 0, 0,\n",
              "       0, 1, 1, 1, 1, 0, 1, 0, 1, 0, 1, 1, 1, 0, 1, 1, 1, 1, 1, 1, 1, 0,\n",
              "       0, 0, 1, 1, 1, 1, 1, 1, 1, 1, 1, 1, 1, 0, 0, 1, 0, 0, 0, 1, 0, 0,\n",
              "       1, 1, 1, 1, 1, 0, 1, 1, 1, 1, 1, 0, 1, 1, 1, 0, 1, 1, 0, 0, 1, 1,\n",
              "       1, 1, 1, 1, 0, 1, 1, 1, 1, 1, 1, 1, 0, 1, 1, 1, 1, 1, 0, 1, 1, 0,\n",
              "       1, 1, 1, 1, 1, 1, 1, 1, 1, 1, 1, 1, 0, 1, 0, 0, 1, 0, 1, 1, 1, 1,\n",
              "       1, 0, 1, 1, 0, 1, 0, 1, 1, 0, 1, 0, 1, 1, 1, 1, 1, 1, 1, 1, 0, 0,\n",
              "       1, 1, 1, 1, 1, 1, 0, 1, 1, 1, 1, 1, 1, 1, 1, 1, 1, 0, 1, 1, 1, 1,\n",
              "       1, 1, 1, 0, 1, 0, 1, 1, 0, 1, 1, 1, 1, 1, 0, 0, 1, 0, 1, 0, 1, 1,\n",
              "       1, 1, 1, 0, 1, 1, 0, 1, 0, 1, 0, 0, 1, 1, 1, 0, 1, 1, 1, 1, 1, 1,\n",
              "       1, 1, 1, 1, 1, 0, 1, 0, 0, 1, 1, 1, 1, 1, 1, 1, 1, 1, 1, 1, 1, 1,\n",
              "       1, 1, 1, 1, 1, 1, 1, 1, 1, 1, 1, 1, 0, 0, 0, 0, 0, 0, 1])"
            ]
          },
          "metadata": {},
          "execution_count": 5
        }
      ],
      "source": [
        "target"
      ]
    },
    {
      "cell_type": "markdown",
      "metadata": {
        "id": "v9ll5c7cPk5J"
      },
      "source": [
        "## Step2. 區分訓練集與測試集"
      ]
    },
    {
      "cell_type": "code",
      "execution_count": 6,
      "metadata": {
        "id": "1p5AXjyXPk5J"
      },
      "outputs": [],
      "source": [
        "X=breast_cancer.data\n",
        "y=breast_cancer.target"
      ]
    },
    {
      "cell_type": "code",
      "execution_count": 7,
      "metadata": {
        "id": "lUVFduQ4Pk5K"
      },
      "outputs": [],
      "source": [
        "X_train, X_test, y_train, y_test = train_test_split(X, y,test_size=0.3,random_state=0)"
      ]
    },
    {
      "cell_type": "markdown",
      "metadata": {
        "id": "pzQq_zugPk5K"
      },
      "source": [
        "## Step3. 建模"
      ]
    },
    {
      "cell_type": "code",
      "execution_count": 8,
      "metadata": {
        "id": "_At44YOePk5K",
        "outputId": "35e6552f-a526-4c8d-a176-158232246f4b",
        "colab": {
          "base_uri": "https://localhost:8080/"
        }
      },
      "outputs": [
        {
          "output_type": "execute_result",
          "data": {
            "text/plain": [
              "SVR()"
            ]
          },
          "metadata": {},
          "execution_count": 8
        }
      ],
      "source": [
        "from sklearn.svm import SVR\n",
        "from sklearn.pipeline import make_pipeline\n",
        "clf=svm.SVR()\n",
        "clf.fit(X_train,y_train)"
      ]
    },
    {
      "cell_type": "markdown",
      "metadata": {
        "id": "SkJxLwh-Pk5K"
      },
      "source": [
        "## Step4. 預測\n",
        "\n",
        "```\n",
        "\n",
        "```\n"
      ]
    },
    {
      "cell_type": "code",
      "execution_count": 9,
      "metadata": {
        "id": "6ru9Dm-nPk5L",
        "outputId": "398947f8-9fa3-4e7c-ddab-e972cb88429a",
        "colab": {
          "base_uri": "https://localhost:8080/"
        }
      },
      "outputs": [
        {
          "output_type": "execute_result",
          "data": {
            "text/plain": [
              "array([ 0.54607601,  0.96305203,  0.93405392,  0.68104488,  1.11138949,\n",
              "        1.03248658,  1.09954986,  1.06754561,  0.9196294 ,  1.07636554,\n",
              "        0.71525273,  0.73589283,  1.04076052,  0.40409995,  0.72699984,\n",
              "        0.19112493,  0.99851654,  0.01185003,  0.10011276,  0.05923947,\n",
              "        0.33009765,  0.36677789,  0.92845289,  0.97984279,  0.03112265,\n",
              "        0.92865257,  1.00986621,  0.87685516,  0.92753926, -0.06154847,\n",
              "        1.04942363,  0.03565352,  0.85031877,  0.11170984,  1.03990178,\n",
              "        0.3942359 ,  0.82460578, -0.05467892,  0.8092099 ,  0.25871978,\n",
              "        0.50199072,  0.98900302,  0.14491648,  1.05251517,  0.76468785,\n",
              "        0.0800073 ,  1.00448426,  0.87013695,  1.07259773,  0.42897365,\n",
              "        0.05768615,  0.78230873, -0.09738488,  1.04082275,  1.02746332,\n",
              "        1.05675064,  1.07436055,  0.99802177,  1.01821602,  0.09930412,\n",
              "        0.65007339,  0.04268792,  1.05711736,  1.00326073, -0.08585508,\n",
              "        0.96004773,  0.10068786, -0.10083789, -0.01714731,  1.01222814,\n",
              "        0.59474705, -0.08296917,  1.03638344,  0.8339759 , -0.08997356,\n",
              "        0.94978811,  0.98240056,  1.01107745,  0.97558057,  0.96346438,\n",
              "        0.22097857, -0.03323339, -0.04321535,  1.09593218,  0.28722058,\n",
              "        1.02908565,  0.87257006,  0.97067041, -0.10877505, -0.01546025,\n",
              "        1.03994555,  0.39298841,  0.62568203,  0.53263252,  0.98344196,\n",
              "        1.03235286, -0.23447214,  0.92450756,  0.99295571,  1.00369075,\n",
              "        1.01114165,  1.03904531,  0.81341481,  0.87965327, -0.09926367,\n",
              "        1.00714379,  0.04006068,  0.82534364,  0.42220432,  0.45226949,\n",
              "        0.92705073,  0.01180776, -0.07602474,  0.64710054,  1.02725499,\n",
              "        0.96363712,  0.53749625,  1.09372339,  0.89336785,  0.99238371,\n",
              "        0.99553073,  1.01699223,  0.77059407,  1.02969608, -0.03902426,\n",
              "        0.97742089,  0.568796  ,  1.06228614,  1.07722716,  1.07302433,\n",
              "       -0.06267997,  0.97286531,  0.96180347,  0.94150289,  1.03511909,\n",
              "        1.0816698 ,  0.69184494,  0.42161839, -0.03485896,  1.07635809,\n",
              "        1.00978049,  1.04465153,  0.08065232,  1.03375304,  1.08431868,\n",
              "       -0.02696177,  0.79097041,  0.29994267,  0.9754933 ,  0.90667332,\n",
              "        1.05385665,  0.90747354,  0.98764212,  0.80865985,  1.05914833,\n",
              "        0.47837928,  0.80616419,  0.55465153,  1.00781094, -0.16466297,\n",
              "       -0.03575054,  1.03410104,  1.00198162,  0.02791281,  1.0715677 ,\n",
              "        0.14456678,  0.45423552, -0.00405451,  0.86394969,  0.99577303,\n",
              "        1.03513443])"
            ]
          },
          "metadata": {},
          "execution_count": 9
        }
      ],
      "source": [
        "clf.predict(X_test)"
      ]
    },
    {
      "cell_type": "markdown",
      "metadata": {
        "id": "67qtKt8oPk5L"
      },
      "source": [
        "## Step5. 準確度分析"
      ]
    },
    {
      "cell_type": "code",
      "execution_count": 10,
      "metadata": {
        "id": "7efhhCQQPk5L",
        "outputId": "0a6751fe-1bbb-466c-b829-a0d68837c9ed",
        "colab": {
          "base_uri": "https://localhost:8080/"
        }
      },
      "outputs": [
        {
          "output_type": "stream",
          "name": "stdout",
          "text": [
            "0.7176603959414388\n",
            "0.778843394319567\n"
          ]
        }
      ],
      "source": [
        "print(clf.score(X_train,y_train))\n",
        "print(clf.score(X_test, y_test))"
      ]
    },
    {
      "cell_type": "code",
      "execution_count": 10,
      "metadata": {
        "id": "S_ACIHWPPk5L"
      },
      "outputs": [],
      "source": []
    }
  ],
  "metadata": {
    "kernelspec": {
      "display_name": "Python 3 (ipykernel)",
      "language": "python",
      "name": "python3"
    },
    "language_info": {
      "codemirror_mode": {
        "name": "ipython",
        "version": 3
      },
      "file_extension": ".py",
      "mimetype": "text/x-python",
      "name": "python",
      "nbconvert_exporter": "python",
      "pygments_lexer": "ipython3",
      "version": "3.9.12"
    },
    "colab": {
      "provenance": []
    }
  },
  "nbformat": 4,
  "nbformat_minor": 0
}